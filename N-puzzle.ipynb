{
 "cells": [
  {
   "cell_type": "code",
   "execution_count": 1,
   "metadata": {},
   "outputs": [],
   "source": [
    "import numpy as np"
   ]
  },
  {
   "cell_type": "code",
   "execution_count": 2,
   "metadata": {},
   "outputs": [],
   "source": [
    "class Node:\n",
    "    def __init__(self, pattern, level, f):\n",
    "        self.pattern = pattern\n",
    "        self.level = level\n",
    "        self.f = f\n",
    "\n",
    "    def Children(self):\n",
    "        \"\"\"\n",
    "        Create all possible childrens\n",
    "        \"\"\"\n",
    "        children = []\n",
    "        blank = np.where(self.pattern == 0)\n",
    "        possible_positions = [(-1, 0), (1, 0), (0, -1), (0, 1)]\n",
    "        for position in possible_positions:\n",
    "            child = self.CreateChild(blank, position)\n",
    "            if child is not None:\n",
    "                children.append(child)\n",
    "        return children\n",
    "\n",
    "    def CreateChild(self, blank_position, possible_position):\n",
    "        w, h = self.pattern.shape\n",
    "        i = blank_position[0][0] + possible_position[0]\n",
    "        j = blank_position[1][0] + possible_position[1]\n",
    "        if 0 <= i and i < w and 0 <= j and j < h:\n",
    "            new_pattern = self.pattern.copy()\n",
    "            new_pattern[blank_position[0], blank_position[1]], new_pattern[i, j] = new_pattern[i, j], new_pattern[\n",
    "                blank_position[0], blank_position[1]]\n",
    "            return Node(new_pattern, self.level + 1, 0)\n",
    "        else:\n",
    "            return None"
   ]
  },
  {
   "cell_type": "code",
   "execution_count": 3,
   "metadata": {},
   "outputs": [],
   "source": [
    "def In_Closed(closed,node):\n",
    "    if len(closed) == 0:\n",
    "        return True\n",
    "    for closed_node in closed:\n",
    "        if (closed_node.pattern == node.pattern).all() and closed_node.f < node.f:\n",
    "            return False\n",
    "        else:\n",
    "            return True\n",
    "\n",
    "def SolvePuzzle(start, goal):\n",
    "    traveresd_nodes = []\n",
    "    open_list = []\n",
    "    close_list = []\n",
    "    open_list.append(start)\n",
    "    while True:\n",
    "        current = open_list[0]\n",
    "        print(current.pattern)\n",
    "        print('----------------')\n",
    "        traveresd_nodes.append(current)\n",
    "        if (current.pattern == goal.pattern).all():\n",
    "            print('Reached Goal')\n",
    "            break\n",
    "        for child in current.Children():\n",
    "            child.f = Calculate_F(child, goal)\n",
    "            if In_Closed(close_list,child):\n",
    "                open_list.append(child)\n",
    "        close_list.append(current)\n",
    "        del open_list[0]\n",
    "        open_list.sort(key=lambda x: x.f, reverse=False)\n",
    "\n",
    "    return traveresd_nodes\n",
    "\n",
    "def Calculate_F(start,goal,method='manhatan'):\n",
    "    distance = 0\n",
    "    w,_ = start.pattern.shape\n",
    "    if method == 'manhatan':\n",
    "        for i in range(w):\n",
    "            for j in range(w):\n",
    "                location = np.where(goal.pattern == start.pattern[i,j])\n",
    "                distance += abs(location[0][0] - i)\n",
    "                distance += abs(location[1][0] - j)\n",
    "    elif method=='misplaced':\n",
    "        distance += np.sum(goal.pattern != start.pattern)\n",
    "    return distance+start.level"
   ]
  },
  {
   "cell_type": "code",
   "execution_count": 4,
   "metadata": {},
   "outputs": [
    {
     "name": "stdout",
     "output_type": "stream",
     "text": [
      "[[0 1 3]\n",
      " [4 2 5]\n",
      " [7 8 6]]\n",
      "----------------\n",
      "[[1 0 3]\n",
      " [4 2 5]\n",
      " [7 8 6]]\n",
      "----------------\n",
      "[[1 2 3]\n",
      " [4 0 5]\n",
      " [7 8 6]]\n",
      "----------------\n",
      "[[1 2 3]\n",
      " [4 5 0]\n",
      " [7 8 6]]\n",
      "----------------\n",
      "[[1 2 3]\n",
      " [4 5 6]\n",
      " [7 8 0]]\n",
      "----------------\n",
      "Reached Goal\n"
     ]
    }
   ],
   "source": [
    "start = Node(np.array([0,1,3,4,2,5,7,8,6]).reshape((3,3)),0,0)\n",
    "goal = Node(np.array([1,2,3,4,5,6,7,8,0]).reshape((3,3)),0,0)\n",
    "steps = SolvePuzzle(start,goal)"
   ]
  }
 ],
 "metadata": {
  "kernelspec": {
   "display_name": "Python 3",
   "language": "python",
   "name": "python3"
  },
  "language_info": {
   "codemirror_mode": {
    "name": "ipython",
    "version": 3
   },
   "file_extension": ".py",
   "mimetype": "text/x-python",
   "name": "python",
   "nbconvert_exporter": "python",
   "pygments_lexer": "ipython3",
   "version": "3.7.6"
  }
 },
 "nbformat": 4,
 "nbformat_minor": 4
}
